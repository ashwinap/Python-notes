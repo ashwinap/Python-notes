{
 "cells": [
  {
   "cell_type": "code",
   "execution_count": 1,
   "metadata": {
    "collapsed": false
   },
   "outputs": [],
   "source": [
    "import numpy as np\n",
    "import pandas as pd\n",
    "\n",
    "from pandas import Series, DataFrame\n",
    "\n"
   ]
  },
  {
   "cell_type": "code",
   "execution_count": 2,
   "metadata": {
    "collapsed": false
   },
   "outputs": [],
   "source": [
    "Main_df = pd.read_csv(\"data_set.csv\")"
   ]
  },
  {
   "cell_type": "code",
   "execution_count": 3,
   "metadata": {
    "collapsed": false
   },
   "outputs": [
    {
     "data": {
      "text/html": [
       "<div>\n",
       "<table border=\"1\" class=\"dataframe\">\n",
       "  <thead>\n",
       "    <tr style=\"text-align: right;\">\n",
       "      <th></th>\n",
       "      <th>id</th>\n",
       "      <th>loan_amnt</th>\n",
       "      <th>funded_amnt</th>\n",
       "      <th>funded_amnt_inv</th>\n",
       "      <th>installment</th>\n",
       "      <th>annual_inc</th>\n",
       "      <th>dti</th>\n",
       "      <th>delinq_2yrs</th>\n",
       "      <th>fico_range_low</th>\n",
       "      <th>fico_range_high</th>\n",
       "      <th>...</th>\n",
       "      <th>num_actv_bc_tl</th>\n",
       "      <th>num_bc_tl</th>\n",
       "      <th>num_il_tl</th>\n",
       "      <th>num_tl_120dpd_2m</th>\n",
       "      <th>num_tl_30dpd</th>\n",
       "      <th>num_tl_90g_dpd_24m</th>\n",
       "      <th>num_tl_op_past_12m</th>\n",
       "      <th>percent_bc_gt_75</th>\n",
       "      <th>pub_rec_bankruptcies</th>\n",
       "      <th>tax_liens</th>\n",
       "    </tr>\n",
       "  </thead>\n",
       "  <tbody>\n",
       "    <tr>\n",
       "      <th>count</th>\n",
       "      <td>5.641000e+03</td>\n",
       "      <td>5641.000000</td>\n",
       "      <td>5641.000000</td>\n",
       "      <td>5641.000000</td>\n",
       "      <td>5641.000000</td>\n",
       "      <td>5.641000e+03</td>\n",
       "      <td>5641.000000</td>\n",
       "      <td>5641.000000</td>\n",
       "      <td>5641.000000</td>\n",
       "      <td>5641.000000</td>\n",
       "      <td>...</td>\n",
       "      <td>5641.000000</td>\n",
       "      <td>5641.000000</td>\n",
       "      <td>5641.000000</td>\n",
       "      <td>5366.000000</td>\n",
       "      <td>5641.000000</td>\n",
       "      <td>5641.000000</td>\n",
       "      <td>5641.000000</td>\n",
       "      <td>5564.000000</td>\n",
       "      <td>5641.000000</td>\n",
       "      <td>5641.000000</td>\n",
       "    </tr>\n",
       "    <tr>\n",
       "      <th>mean</th>\n",
       "      <td>4.067590e+07</td>\n",
       "      <td>15732.396738</td>\n",
       "      <td>15732.396738</td>\n",
       "      <td>15727.051941</td>\n",
       "      <td>504.888837</td>\n",
       "      <td>9.609294e+04</td>\n",
       "      <td>15.243561</td>\n",
       "      <td>0.415706</td>\n",
       "      <td>695.859777</td>\n",
       "      <td>699.859954</td>\n",
       "      <td>...</td>\n",
       "      <td>3.282751</td>\n",
       "      <td>7.730367</td>\n",
       "      <td>8.297997</td>\n",
       "      <td>0.001864</td>\n",
       "      <td>0.004077</td>\n",
       "      <td>0.114341</td>\n",
       "      <td>2.037050</td>\n",
       "      <td>35.993812</td>\n",
       "      <td>0.162914</td>\n",
       "      <td>0.184719</td>\n",
       "    </tr>\n",
       "    <tr>\n",
       "      <th>std</th>\n",
       "      <td>1.866962e+07</td>\n",
       "      <td>9307.174445</td>\n",
       "      <td>9307.174445</td>\n",
       "      <td>9302.668516</td>\n",
       "      <td>300.023861</td>\n",
       "      <td>8.242079e+04</td>\n",
       "      <td>8.722700</td>\n",
       "      <td>1.030920</td>\n",
       "      <td>33.956272</td>\n",
       "      <td>33.957053</td>\n",
       "      <td>...</td>\n",
       "      <td>2.129080</td>\n",
       "      <td>4.621928</td>\n",
       "      <td>7.392421</td>\n",
       "      <td>0.047257</td>\n",
       "      <td>0.063729</td>\n",
       "      <td>0.592693</td>\n",
       "      <td>1.723598</td>\n",
       "      <td>34.538474</td>\n",
       "      <td>0.427196</td>\n",
       "      <td>1.011593</td>\n",
       "    </tr>\n",
       "    <tr>\n",
       "      <th>min</th>\n",
       "      <td>3.547950e+05</td>\n",
       "      <td>1000.000000</td>\n",
       "      <td>1000.000000</td>\n",
       "      <td>1000.000000</td>\n",
       "      <td>32.740000</td>\n",
       "      <td>8.000000e+03</td>\n",
       "      <td>0.000000</td>\n",
       "      <td>0.000000</td>\n",
       "      <td>660.000000</td>\n",
       "      <td>664.000000</td>\n",
       "      <td>...</td>\n",
       "      <td>0.000000</td>\n",
       "      <td>0.000000</td>\n",
       "      <td>0.000000</td>\n",
       "      <td>0.000000</td>\n",
       "      <td>0.000000</td>\n",
       "      <td>0.000000</td>\n",
       "      <td>0.000000</td>\n",
       "      <td>0.000000</td>\n",
       "      <td>0.000000</td>\n",
       "      <td>0.000000</td>\n",
       "    </tr>\n",
       "    <tr>\n",
       "      <th>25%</th>\n",
       "      <td>2.296274e+07</td>\n",
       "      <td>8050.000000</td>\n",
       "      <td>8050.000000</td>\n",
       "      <td>8050.000000</td>\n",
       "      <td>277.290000</td>\n",
       "      <td>5.200000e+04</td>\n",
       "      <td>8.390000</td>\n",
       "      <td>0.000000</td>\n",
       "      <td>670.000000</td>\n",
       "      <td>674.000000</td>\n",
       "      <td>...</td>\n",
       "      <td>2.000000</td>\n",
       "      <td>4.000000</td>\n",
       "      <td>3.000000</td>\n",
       "      <td>0.000000</td>\n",
       "      <td>0.000000</td>\n",
       "      <td>0.000000</td>\n",
       "      <td>1.000000</td>\n",
       "      <td>0.000000</td>\n",
       "      <td>0.000000</td>\n",
       "      <td>0.000000</td>\n",
       "    </tr>\n",
       "    <tr>\n",
       "      <th>50%</th>\n",
       "      <td>4.127687e+07</td>\n",
       "      <td>14175.000000</td>\n",
       "      <td>14175.000000</td>\n",
       "      <td>14175.000000</td>\n",
       "      <td>436.790000</td>\n",
       "      <td>7.500000e+04</td>\n",
       "      <td>14.340000</td>\n",
       "      <td>0.000000</td>\n",
       "      <td>685.000000</td>\n",
       "      <td>689.000000</td>\n",
       "      <td>...</td>\n",
       "      <td>3.000000</td>\n",
       "      <td>7.000000</td>\n",
       "      <td>6.000000</td>\n",
       "      <td>0.000000</td>\n",
       "      <td>0.000000</td>\n",
       "      <td>0.000000</td>\n",
       "      <td>2.000000</td>\n",
       "      <td>33.300000</td>\n",
       "      <td>0.000000</td>\n",
       "      <td>0.000000</td>\n",
       "    </tr>\n",
       "    <tr>\n",
       "      <th>75%</th>\n",
       "      <td>5.831029e+07</td>\n",
       "      <td>21525.000000</td>\n",
       "      <td>21525.000000</td>\n",
       "      <td>21500.000000</td>\n",
       "      <td>683.360000</td>\n",
       "      <td>1.136000e+05</td>\n",
       "      <td>21.000000</td>\n",
       "      <td>0.000000</td>\n",
       "      <td>710.000000</td>\n",
       "      <td>714.000000</td>\n",
       "      <td>...</td>\n",
       "      <td>4.000000</td>\n",
       "      <td>10.000000</td>\n",
       "      <td>11.000000</td>\n",
       "      <td>0.000000</td>\n",
       "      <td>0.000000</td>\n",
       "      <td>0.000000</td>\n",
       "      <td>3.000000</td>\n",
       "      <td>60.000000</td>\n",
       "      <td>0.000000</td>\n",
       "      <td>0.000000</td>\n",
       "    </tr>\n",
       "    <tr>\n",
       "      <th>max</th>\n",
       "      <td>6.861613e+07</td>\n",
       "      <td>35000.000000</td>\n",
       "      <td>35000.000000</td>\n",
       "      <td>35000.000000</td>\n",
       "      <td>1424.570000</td>\n",
       "      <td>1.500000e+06</td>\n",
       "      <td>39.990000</td>\n",
       "      <td>15.000000</td>\n",
       "      <td>845.000000</td>\n",
       "      <td>850.000000</td>\n",
       "      <td>...</td>\n",
       "      <td>17.000000</td>\n",
       "      <td>42.000000</td>\n",
       "      <td>65.000000</td>\n",
       "      <td>2.000000</td>\n",
       "      <td>1.000000</td>\n",
       "      <td>12.000000</td>\n",
       "      <td>17.000000</td>\n",
       "      <td>100.000000</td>\n",
       "      <td>5.000000</td>\n",
       "      <td>39.000000</td>\n",
       "    </tr>\n",
       "  </tbody>\n",
       "</table>\n",
       "<p>8 rows × 40 columns</p>\n",
       "</div>"
      ],
      "text/plain": [
       "                 id     loan_amnt   funded_amnt  funded_amnt_inv  installment  \\\n",
       "count  5.641000e+03   5641.000000   5641.000000      5641.000000  5641.000000   \n",
       "mean   4.067590e+07  15732.396738  15732.396738     15727.051941   504.888837   \n",
       "std    1.866962e+07   9307.174445   9307.174445      9302.668516   300.023861   \n",
       "min    3.547950e+05   1000.000000   1000.000000      1000.000000    32.740000   \n",
       "25%    2.296274e+07   8050.000000   8050.000000      8050.000000   277.290000   \n",
       "50%    4.127687e+07  14175.000000  14175.000000     14175.000000   436.790000   \n",
       "75%    5.831029e+07  21525.000000  21525.000000     21500.000000   683.360000   \n",
       "max    6.861613e+07  35000.000000  35000.000000     35000.000000  1424.570000   \n",
       "\n",
       "         annual_inc          dti  delinq_2yrs  fico_range_low  \\\n",
       "count  5.641000e+03  5641.000000  5641.000000     5641.000000   \n",
       "mean   9.609294e+04    15.243561     0.415706      695.859777   \n",
       "std    8.242079e+04     8.722700     1.030920       33.956272   \n",
       "min    8.000000e+03     0.000000     0.000000      660.000000   \n",
       "25%    5.200000e+04     8.390000     0.000000      670.000000   \n",
       "50%    7.500000e+04    14.340000     0.000000      685.000000   \n",
       "75%    1.136000e+05    21.000000     0.000000      710.000000   \n",
       "max    1.500000e+06    39.990000    15.000000      845.000000   \n",
       "\n",
       "       fico_range_high     ...       num_actv_bc_tl    num_bc_tl    num_il_tl  \\\n",
       "count      5641.000000     ...          5641.000000  5641.000000  5641.000000   \n",
       "mean        699.859954     ...             3.282751     7.730367     8.297997   \n",
       "std          33.957053     ...             2.129080     4.621928     7.392421   \n",
       "min         664.000000     ...             0.000000     0.000000     0.000000   \n",
       "25%         674.000000     ...             2.000000     4.000000     3.000000   \n",
       "50%         689.000000     ...             3.000000     7.000000     6.000000   \n",
       "75%         714.000000     ...             4.000000    10.000000    11.000000   \n",
       "max         850.000000     ...            17.000000    42.000000    65.000000   \n",
       "\n",
       "       num_tl_120dpd_2m  num_tl_30dpd  num_tl_90g_dpd_24m  num_tl_op_past_12m  \\\n",
       "count       5366.000000   5641.000000         5641.000000         5641.000000   \n",
       "mean           0.001864      0.004077            0.114341            2.037050   \n",
       "std            0.047257      0.063729            0.592693            1.723598   \n",
       "min            0.000000      0.000000            0.000000            0.000000   \n",
       "25%            0.000000      0.000000            0.000000            1.000000   \n",
       "50%            0.000000      0.000000            0.000000            2.000000   \n",
       "75%            0.000000      0.000000            0.000000            3.000000   \n",
       "max            2.000000      1.000000           12.000000           17.000000   \n",
       "\n",
       "       percent_bc_gt_75  pub_rec_bankruptcies    tax_liens  \n",
       "count       5564.000000           5641.000000  5641.000000  \n",
       "mean          35.993812              0.162914     0.184719  \n",
       "std           34.538474              0.427196     1.011593  \n",
       "min            0.000000              0.000000     0.000000  \n",
       "25%            0.000000              0.000000     0.000000  \n",
       "50%           33.300000              0.000000     0.000000  \n",
       "75%           60.000000              0.000000     0.000000  \n",
       "max          100.000000              5.000000    39.000000  \n",
       "\n",
       "[8 rows x 40 columns]"
      ]
     },
     "execution_count": 3,
     "metadata": {},
     "output_type": "execute_result"
    }
   ],
   "source": [
    "Main_df.describe()"
   ]
  },
  {
   "cell_type": "code",
   "execution_count": 4,
   "metadata": {
    "collapsed": false
   },
   "outputs": [],
   "source": [
    "#Main_df.head(1)"
   ]
  },
  {
   "cell_type": "code",
   "execution_count": 5,
   "metadata": {
    "collapsed": true
   },
   "outputs": [],
   "source": [
    "id_df = Main_df['id']"
   ]
  },
  {
   "cell_type": "code",
   "execution_count": 6,
   "metadata": {
    "collapsed": false
   },
   "outputs": [
    {
     "data": {
      "text/plain": [
       "count    5.641000e+03\n",
       "mean     4.067590e+07\n",
       "std      1.866962e+07\n",
       "min      3.547950e+05\n",
       "25%      2.296274e+07\n",
       "50%      4.127687e+07\n",
       "75%      5.831029e+07\n",
       "max      6.861613e+07\n",
       "Name: id, dtype: float64"
      ]
     },
     "execution_count": 6,
     "metadata": {},
     "output_type": "execute_result"
    }
   ],
   "source": [
    "id_df.describe()"
   ]
  },
  {
   "cell_type": "code",
   "execution_count": 7,
   "metadata": {
    "collapsed": false
   },
   "outputs": [],
   "source": [
    "import xlsxwriter"
   ]
  },
  {
   "cell_type": "code",
   "execution_count": 8,
   "metadata": {
    "collapsed": false
   },
   "outputs": [],
   "source": [
    "writer = pd.ExcelWriter('new_data_set_1.xlsx', engine='xlsxwriter')\n"
   ]
  },
  {
   "cell_type": "code",
   "execution_count": 11,
   "metadata": {
    "collapsed": false
   },
   "outputs": [],
   "source": [
    "#Main_df.to_excel(writer,'Sheet1')\n",
    "#writer.save()"
   ]
  },
  {
   "cell_type": "code",
   "execution_count": 9,
   "metadata": {
    "collapsed": false
   },
   "outputs": [],
   "source": [
    "import matplotlib.pyplot as plt\n",
    "\n",
    "%matplotlib inline\n",
    "\n",
    "import seaborn as sns\n",
    "\n",
    "#sns.set_style('whitegrid')"
   ]
  },
  {
   "cell_type": "code",
   "execution_count": 10,
   "metadata": {
    "collapsed": false
   },
   "outputs": [
    {
     "data": {
      "text/plain": [
       "<matplotlib.axes._subplots.AxesSubplot at 0x112d1b910>"
      ]
     },
     "execution_count": 10,
     "metadata": {},
     "output_type": "execute_result"
    },
    {
     "data": {
      "image/png": "[encoded data removed]",
      "text/plain": [
       "<matplotlib.figure.Figure at 0x112d1b250>"
      ]
     },
     "metadata": {},
     "output_type": "display_data"
    }
   ],
   "source": [
    "#Loan ammount by each ID\n",
    "sns.distplot(Main_df['loan_amnt'], bins=50)"
   ]
  },
  {
   "cell_type": "code",
   "execution_count": 13,
   "metadata": {
    "collapsed": false
   },
   "outputs": [
    {
     "data": {
      "text/plain": [
       "<matplotlib.axes._subplots.AxesSubplot at 0x115ad7e90>"
      ]
     },
     "execution_count": 13,
     "metadata": {},
     "output_type": "execute_result"
    },
    {
     "data": {
      "image/png": "[encoded data removed]",
      "text/plain": [
       "<matplotlib.figure.Figure at 0x115ae1f90>"
      ]
     },
     "metadata": {},
     "output_type": "display_data"
    }
   ],
   "source": [
    "#Distribution of The number of accounts on which the borrower is now delinquent\n",
    "sns.distplot(Main_df['acc_now_delinq'],bins = 5)\n"
   ]
  },
  {
   "cell_type": "code",
   "execution_count": 16,
   "metadata": {
    "collapsed": true
   },
   "outputs": [],
   "source": [
    "sample_df = Main_df"
   ]
  },
  {
   "cell_type": "code",
   "execution_count": 17,
   "metadata": {
    "collapsed": false
   },
   "outputs": [],
   "source": [
    "#sample_df[sample_df['acc_now_delinq'] > 0]\n",
    "#distribution of loan amount who has atleast 1 delinq\n",
    "acc_now_delinq_loan_amnt = sample_df[sample_df['acc_now_delinq'] > 0]['loan_amnt']"
   ]
  },
  {
   "cell_type": "code",
   "execution_count": 26,
   "metadata": {
    "collapsed": false
   },
   "outputs": [
    {
     "data": {
      "text/plain": [
       "<matplotlib.axes._subplots.AxesSubplot at 0x1173da950>"
      ]
     },
     "execution_count": 26,
     "metadata": {},
     "output_type": "execute_result"
    },
    {
     "data": {
      "image/png": "[encoded data removed]",
      "text/plain": [
       "<matplotlib.figure.Figure at 0x1175947d0>"
      ]
     },
     "metadata": {},
     "output_type": "display_data"
    }
   ],
   "source": [
    "sns.distplot(acc_now_delinq_loan_amnt, bins=30)"
   ]
  },
  {
   "cell_type": "code",
   "execution_count": 62,
   "metadata": {
    "collapsed": false
   },
   "outputs": [
    {
     "data": {
      "text/plain": [
       "<matplotlib.axes._subplots.AxesSubplot at 0x116a4b8d0>"
      ]
     },
     "execution_count": 62,
     "metadata": {},
     "output_type": "execute_result"
    },
    {
     "data": {
      "image/png": "[encoded data removed]",
      "text/plain": [
       "<matplotlib.figure.Figure at 0x115c87290>"
      ]
     },
     "metadata": {},
     "output_type": "display_data"
    }
   ],
   "source": [
    "sns.distplot(sample_df[sample_df['acc_now_delinq'] > 0]['annual_inc'], bins=5)"
   ]
  },
  {
   "cell_type": "code",
   "execution_count": 68,
   "metadata": {
    "collapsed": false
   },
   "outputs": [
    {
     "data": {
      "text/plain": [
       "<matplotlib.axes._subplots.AxesSubplot at 0x117aa3590>"
      ]
     },
     "execution_count": 68,
     "metadata": {},
     "output_type": "execute_result"
    },
    {
     "data": {
      "image/png": "[encoded data removed]",
      "text/plain": [
       "<matplotlib.figure.Figure at 0x1174114d0>"
      ]
     },
     "metadata": {},
     "output_type": "display_data"
    }
   ],
   "source": [
    "sns.distplot(sample_df[sample_df['annual_inc'] < 200000]['annual_inc'], bins=10)"
   ]
  },
  {
   "cell_type": "code",
   "execution_count": 82,
   "metadata": {
    "collapsed": false
   },
   "outputs": [
    {
     "data": {
      "text/plain": [
       "Current               4264\n",
       "Fully Paid             759\n",
       "Charged Off            359\n",
       "Late (31-120 days)     148\n",
       "In Grace Period         70\n",
       "Late (16-30 days)       35\n",
       "Default                  6\n",
       "Name: loan_status, dtype: int64"
      ]
     },
     "execution_count": 82,
     "metadata": {},
     "output_type": "execute_result"
    }
   ],
   "source": [
    "sample_df['loan_status'].value_counts()"
   ]
  },
  {
   "cell_type": "code",
   "execution_count": 94,
   "metadata": {
    "collapsed": false,
    "scrolled": true
   },
   "outputs": [],
   "source": [
    "#corr_df = sample_df['loan_amnt', 'funded_amnt', 'funded_amnt_inv', 'installment', 'delinq_2yrs', 'fico_range_low', 'fico_range_high','open_acc','pub_rec', 'total_acc','acc_now_delinq', 'tot_cur_bal', 'acc_open_past_24mths', 'avg_cur_bal', 'num_actv_bc_tl', 'num_bc_tl', 'num_il_tl', 'num_tl_30dpd', 'num_tl_90g_dpd_24m', 'num_tl_op_past_12m', 'tax_liens']                        "
   ]
  },
  {
   "cell_type": "code",
   "execution_count": 102,
   "metadata": {
    "collapsed": false
   },
   "outputs": [],
   "source": [
    "#x = sample_df['loan_amnt', 'funded_amnt', 'funded_amnt_inv']\n",
    "#sns.pairplot(sample_df['loan_amnt', 'funded_amnt', 'funded_amnt_inv'])"
   ]
  },
  {
   "cell_type": "code",
   "execution_count": 114,
   "metadata": {
    "collapsed": false
   },
   "outputs": [
    {
     "data": {
      "text/plain": [
       "count      5642\n",
       "unique      868\n",
       "top       35000\n",
       "freq        404\n",
       "Name: loan_amnt, dtype: int64"
      ]
     },
     "execution_count": 114,
     "metadata": {},
     "output_type": "execute_result"
    }
   ],
   "source": [
    "sample_df['loan_amnt'].describe()"
   ]
  },
  {
   "cell_type": "code",
   "execution_count": 118,
   "metadata": {
    "collapsed": false
   },
   "outputs": [],
   "source": [
    "#y.describe()"
   ]
  },
  {
   "cell_type": "code",
   "execution_count": 116,
   "metadata": {
    "collapsed": false
   },
   "outputs": [],
   "source": [
    "#sample_df['funded_amnt'].describe()"
   ]
  },
  {
   "cell_type": "code",
   "execution_count": 117,
   "metadata": {
    "collapsed": false
   },
   "outputs": [],
   "source": [
    "#sample_df['funded_amnt_inv'].describe()"
   ]
  },
  {
   "cell_type": "code",
   "execution_count": 120,
   "metadata": {
    "collapsed": false
   },
   "outputs": [
    {
     "data": {
      "text/plain": [
       " 36 months    4062\n",
       " 60 months    1579\n",
       "Name: term, dtype: int64"
      ]
     },
     "execution_count": 120,
     "metadata": {},
     "output_type": "execute_result"
    }
   ],
   "source": [
    "sample_df['term'].value_counts()"
   ]
  },
  {
   "cell_type": "code",
   "execution_count": 154,
   "metadata": {
    "collapsed": true
   },
   "outputs": [],
   "source": [
    "def change_term(data):\n",
    "    new_df = []\n",
    "    for x in data:\n",
    "        if(x == ' 36 months'):\n",
    "            new_df = 60\n",
    "        else:\n",
    "            new_df = 36\n",
    "    return new_df\n",
    "            "
   ]
  },
  {
   "cell_type": "code",
   "execution_count": 150,
   "metadata": {
    "collapsed": false
   },
   "outputs": [],
   "source": [
    "term_df = pd.DataFrame()\n",
    "term_df.cols = ['trans_term']"
   ]
  },
  {
   "cell_type": "code",
   "execution_count": 155,
   "metadata": {
    "collapsed": false
   },
   "outputs": [],
   "source": [
    "term_df['trans_term'] = sample_df['term'].apply(change_term)"
   ]
  },
  {
   "cell_type": "code",
   "execution_count": 156,
   "metadata": {
    "collapsed": false
   },
   "outputs": [
    {
     "data": {
      "text/plain": [
       "36    5641\n",
       "Name: trans_term, dtype: int64"
      ]
     },
     "execution_count": 156,
     "metadata": {},
     "output_type": "execute_result"
    }
   ],
   "source": [
    "term_df['trans_term'].value_counts()"
   ]
  },
  {
   "cell_type": "code",
   "execution_count": 153,
   "metadata": {
    "collapsed": false
   },
   "outputs": [
    {
     "data": {
      "text/plain": [
       " 36 months    4062\n",
       " 60 months    1579\n",
       "Name: term, dtype: int64"
      ]
     },
     "execution_count": 153,
     "metadata": {},
     "output_type": "execute_result"
    }
   ],
   "source": [
    "sample_df['term'].value_counts()"
   ]
  },
  {
   "cell_type": "code",
   "execution_count": 160,
   "metadata": {
    "collapsed": false
   },
   "outputs": [
    {
     "data": {
      "text/plain": [
       "count      5355\n",
       "unique     2659\n",
       "top       Owner\n",
       "freq        514\n",
       "Name: emp_title, dtype: object"
      ]
     },
     "execution_count": 160,
     "metadata": {},
     "output_type": "execute_result"
    }
   ],
   "source": [
    "sample_df['emp_title'].describe()"
   ]
  },
  {
   "cell_type": "code",
   "execution_count": 162,
   "metadata": {
    "collapsed": false
   },
   "outputs": [
    {
     "data": {
      "text/plain": [
       "count          5641\n",
       "unique           12\n",
       "top       10+ years\n",
       "freq           1647\n",
       "Name: emp_length, dtype: object"
      ]
     },
     "execution_count": 162,
     "metadata": {},
     "output_type": "execute_result"
    }
   ],
   "source": [
    "sample_df['emp_length'].describe()"
   ]
  },
  {
   "cell_type": "code",
   "execution_count": 164,
   "metadata": {
    "collapsed": false
   },
   "outputs": [
    {
     "data": {
      "text/plain": [
       "10+ years    1647\n",
       "2 years       594\n",
       "3 years       561\n",
       "< 1 year      439\n",
       "5 years       403\n",
       "1 year        390\n",
       "4 years       374\n",
       "8 years       307\n",
       "7 years       301\n",
       "6 years       279\n",
       "9 years       177\n",
       "n/a           169\n",
       "Name: emp_length, dtype: int64"
      ]
     },
     "execution_count": 164,
     "metadata": {},
     "output_type": "execute_result"
    }
   ],
   "source": [
    "#employee length\n",
    "sample_df['emp_length'].value_counts()"
   ]
  },
  {
   "cell_type": "code",
   "execution_count": 174,
   "metadata": {
    "collapsed": false
   },
   "outputs": [
    {
     "data": {
      "text/plain": [
       "<matplotlib.axes._subplots.AxesSubplot at 0x117a8c310>"
      ]
     },
     "execution_count": 174,
     "metadata": {},
     "output_type": "execute_result"
    },
    {
     "data": {
      "image/png": "[encoded data removed]",
      "text/plain": [
       "<matplotlib.figure.Figure at 0x118883910>"
      ]
     },
     "metadata": {},
     "output_type": "display_data"
    }
   ],
   "source": [
    "#x = sample_df[sample_df['loan_amnt'] < 29000]['id']\n",
    "sns.distplot(sample_df[sample_df['annual_inc'] > 200000]['annual_inc'], bins=50)"
   ]
  },
  {
   "cell_type": "code",
   "execution_count": 203,
   "metadata": {
    "collapsed": false
   },
   "outputs": [
    {
     "name": "stdout",
     "output_type": "stream",
     "text": [
      "35000    404\n",
      "34750      2\n",
      "34025      2\n",
      "34875      2\n",
      "34225      1\n",
      "34625      1\n",
      "34100      1\n",
      "34550      1\n",
      "34475      1\n",
      "34375      1\n",
      "Name: loan_amnt, dtype: int64\n"
     ]
    },
    {
     "data": {
      "image/png": "[encoded data removed]",
      "text/plain": [
       "<matplotlib.figure.Figure at 0x11d49b490>"
      ]
     },
     "metadata": {},
     "output_type": "display_data"
    }
   ],
   "source": [
    "sns.distplot(sample_df[sample_df['loan_amnt'] > 34000]['loan_amnt'])\n",
    "print sample_df[sample_df['loan_amnt'] > 34000]['loan_amnt'].value_counts()"
   ]
  },
  {
   "cell_type": "code",
   "execution_count": 206,
   "metadata": {
    "collapsed": false
   },
   "outputs": [
    {
     "data": {
      "text/plain": [
       "count      5355\n",
       "unique     2659\n",
       "top       Owner\n",
       "freq        514\n",
       "Name: emp_title, dtype: object"
      ]
     },
     "execution_count": 206,
     "metadata": {},
     "output_type": "execute_result"
    }
   ],
   "source": [
    "sample_df['emp_title'].describe()"
   ]
  },
  {
   "cell_type": "code",
   "execution_count": 209,
   "metadata": {
    "collapsed": false
   },
   "outputs": [
    {
     "data": {
      "text/plain": [
       "<matplotlib.axes._subplots.AxesSubplot at 0x11d8c8810>"
      ]
     },
     "execution_count": 209,
     "metadata": {},
     "output_type": "execute_result"
    },
    {
     "data": {
      "image/png": "[encoded data removed]",
      "text/plain": [
       "<matplotlib.figure.Figure at 0x11d9edfd0>"
      ]
     },
     "metadata": {},
     "output_type": "display_data"
    }
   ],
   "source": [
    "sns.distplot(sample_df['inq_last_6mths'],bins=7)"
   ]
  },
  {
   "cell_type": "code",
   "execution_count": 216,
   "metadata": {
    "collapsed": false
   },
   "outputs": [
    {
     "data": {
      "text/plain": [
       "<matplotlib.axes._subplots.AxesSubplot at 0x118f30710>"
      ]
     },
     "execution_count": 216,
     "metadata": {},
     "output_type": "execute_result"
    },
    {
     "data": {
      "image/png": "[encoded data removed]",
      "text/plain": [
       "<matplotlib.figure.Figure at 0x11796aa90>"
      ]
     },
     "metadata": {},
     "output_type": "display_data"
    }
   ],
   "source": [
    "sns.distplot(sample_df['acc_now_delinq'], bins=3)"
   ]
  },
  {
   "cell_type": "code",
   "execution_count": 219,
   "metadata": {
    "collapsed": false
   },
   "outputs": [
    {
     "data": {
      "text/plain": [
       "count    5573.000000\n",
       "mean       26.042885\n",
       "std        33.722658\n",
       "min         0.000000\n",
       "25%         6.000000\n",
       "50%        14.000000\n",
       "75%        31.000000\n",
       "max       373.000000\n",
       "Name: mths_since_recent_bc, dtype: float64"
      ]
     },
     "execution_count": 219,
     "metadata": {},
     "output_type": "execute_result"
    }
   ],
   "source": [
    "sample_df['mths_since_recent_bc'].describe()"
   ]
  },
  {
   "cell_type": "code",
   "execution_count": 27,
   "metadata": {
    "collapsed": false
   },
   "outputs": [
    {
     "data": {
      "text/html": [
       "<div>\n",
       "<table border=\"1\" class=\"dataframe\">\n",
       "  <thead>\n",
       "    <tr style=\"text-align: right;\">\n",
       "      <th></th>\n",
       "      <th>id</th>\n",
       "      <th>loan_amnt</th>\n",
       "      <th>funded_amnt</th>\n",
       "      <th>funded_amnt_inv</th>\n",
       "      <th>term</th>\n",
       "      <th>int_rate</th>\n",
       "      <th>installment</th>\n",
       "      <th>emp_title</th>\n",
       "      <th>emp_length</th>\n",
       "      <th>home_ownership</th>\n",
       "      <th>...</th>\n",
       "      <th>num_actv_bc_tl</th>\n",
       "      <th>num_bc_tl</th>\n",
       "      <th>num_il_tl</th>\n",
       "      <th>num_tl_120dpd_2m</th>\n",
       "      <th>num_tl_30dpd</th>\n",
       "      <th>num_tl_90g_dpd_24m</th>\n",
       "      <th>num_tl_op_past_12m</th>\n",
       "      <th>percent_bc_gt_75</th>\n",
       "      <th>pub_rec_bankruptcies</th>\n",
       "      <th>tax_liens</th>\n",
       "    </tr>\n",
       "  </thead>\n",
       "  <tbody>\n",
       "    <tr>\n",
       "      <th>0</th>\n",
       "      <td>37611926</td>\n",
       "      <td>33950</td>\n",
       "      <td>33950</td>\n",
       "      <td>33950</td>\n",
       "      <td>36 months</td>\n",
       "      <td>23.99%</td>\n",
       "      <td>1331.78</td>\n",
       "      <td>VP of IT</td>\n",
       "      <td>3 years</td>\n",
       "      <td>RENT</td>\n",
       "      <td>...</td>\n",
       "      <td>2</td>\n",
       "      <td>3</td>\n",
       "      <td>10</td>\n",
       "      <td>0.0</td>\n",
       "      <td>0</td>\n",
       "      <td>0</td>\n",
       "      <td>2</td>\n",
       "      <td>0.0</td>\n",
       "      <td>0</td>\n",
       "      <td>0</td>\n",
       "    </tr>\n",
       "  </tbody>\n",
       "</table>\n",
       "<p>1 rows × 56 columns</p>\n",
       "</div>"
      ],
      "text/plain": [
       "         id  loan_amnt  funded_amnt  funded_amnt_inv        term int_rate  \\\n",
       "0  37611926      33950        33950            33950   36 months   23.99%   \n",
       "\n",
       "   installment emp_title emp_length home_ownership    ...     num_actv_bc_tl  \\\n",
       "0      1331.78  VP of IT    3 years           RENT    ...                  2   \n",
       "\n",
       "  num_bc_tl num_il_tl num_tl_120dpd_2m num_tl_30dpd num_tl_90g_dpd_24m  \\\n",
       "0         3        10              0.0            0                  0   \n",
       "\n",
       "  num_tl_op_past_12m  percent_bc_gt_75  pub_rec_bankruptcies tax_liens  \n",
       "0                  2               0.0                     0         0  \n",
       "\n",
       "[1 rows x 56 columns]"
      ]
     },
     "execution_count": 27,
     "metadata": {},
     "output_type": "execute_result"
    }
   ],
   "source": [
    "sample_df.head(1)"
   ]
  },
  {
   "cell_type": "code",
   "execution_count": 29,
   "metadata": {
    "collapsed": false
   },
   "outputs": [
    {
     "name": "stdout",
     "output_type": "stream",
     "text": [
      "<class 'pandas.core.frame.DataFrame'>\n",
      "RangeIndex: 5641 entries, 0 to 5640\n",
      "Data columns (total 56 columns):\n",
      "id                             5641 non-null int64\n",
      "loan_amnt                      5641 non-null int64\n",
      "funded_amnt                    5641 non-null int64\n",
      "funded_amnt_inv                5641 non-null int64\n",
      "term                           5641 non-null object\n",
      "int_rate                       5641 non-null object\n",
      "installment                    5641 non-null float64\n",
      "emp_title                      5355 non-null object\n",
      "emp_length                     5641 non-null object\n",
      "home_ownership                 5641 non-null object\n",
      "annual_inc                     5641 non-null float64\n",
      "verification_status            5641 non-null object\n",
      "issue_d                        5641 non-null object\n",
      "loan_status                    5641 non-null object\n",
      "purpose                        5641 non-null object\n",
      "zip_code                       5641 non-null object\n",
      "addr_state                     5641 non-null object\n",
      "dti                            5641 non-null float64\n",
      "delinq_2yrs                    5641 non-null int64\n",
      "earliest_cr_line               5641 non-null object\n",
      "fico_range_low                 5641 non-null int64\n",
      "fico_range_high                5641 non-null int64\n",
      "inq_last_6mths                 5641 non-null int64\n",
      "mths_since_last_delinq         3220 non-null float64\n",
      "mths_since_last_record         1339 non-null float64\n",
      "open_acc                       5641 non-null int64\n",
      "pub_rec                        5641 non-null int64\n",
      "revol_bal                      5641 non-null int64\n",
      "revol_util                     5638 non-null object\n",
      "total_acc                      5641 non-null int64\n",
      "last_pymnt_d                   5630 non-null object\n",
      "last_pymnt_amnt                5641 non-null float64\n",
      "next_pymnt_d                   4523 non-null object\n",
      "last_credit_pull_d             5641 non-null object\n",
      "mths_since_last_major_derog    1967 non-null float64\n",
      "acc_now_delinq                 5641 non-null int64\n",
      "tot_cur_bal                    5641 non-null int64\n",
      "acc_open_past_24mths           5641 non-null int64\n",
      "avg_cur_bal                    5641 non-null int64\n",
      "bc_util                        5564 non-null float64\n",
      "chargeoff_within_12_mths       5641 non-null int64\n",
      "delinq_amnt                    5641 non-null int64\n",
      "mort_acc                       5641 non-null int64\n",
      "mths_since_recent_bc           5573 non-null float64\n",
      "mths_since_recent_bc_dlq       1709 non-null float64\n",
      "mths_since_recent_inq          5260 non-null float64\n",
      "num_actv_bc_tl                 5641 non-null int64\n",
      "num_bc_tl                      5641 non-null int64\n",
      "num_il_tl                      5641 non-null int64\n",
      "num_tl_120dpd_2m               5366 non-null float64\n",
      "num_tl_30dpd                   5641 non-null int64\n",
      "num_tl_90g_dpd_24m             5641 non-null int64\n",
      "num_tl_op_past_12m             5641 non-null int64\n",
      "percent_bc_gt_75               5564 non-null float64\n",
      "pub_rec_bankruptcies           5641 non-null int64\n",
      "tax_liens                      5641 non-null int64\n",
      "dtypes: float64(13), int64(27), object(16)\n",
      "memory usage: 2.4+ MB\n"
     ]
    }
   ],
   "source": [
    "Main_df.info()"
   ]
  },
  {
   "cell_type": "code",
   "execution_count": 33,
   "metadata": {
    "collapsed": false
   },
   "outputs": [
    {
     "data": {
      "text/plain": [
       "count     5641\n",
       "unique       3\n",
       "top       RENT\n",
       "freq      2539\n",
       "Name: home_ownership, dtype: object"
      ]
     },
     "execution_count": 33,
     "metadata": {},
     "output_type": "execute_result"
    }
   ],
   "source": [
    "Main_df['home_ownership'].describe()"
   ]
  },
  {
   "cell_type": "code",
   "execution_count": 34,
   "metadata": {
    "collapsed": false
   },
   "outputs": [
    {
     "data": {
      "text/plain": [
       "RENT        2539\n",
       "MORTGAGE    2471\n",
       "OWN          631\n",
       "Name: home_ownership, dtype: int64"
      ]
     },
     "execution_count": 34,
     "metadata": {},
     "output_type": "execute_result"
    }
   ],
   "source": [
    "Main_df['home_ownership'].value_counts()"
   ]
  },
  {
   "cell_type": "code",
   "execution_count": null,
   "metadata": {
    "collapsed": true
   },
   "outputs": [],
   "source": []
  }
 ],
 "metadata": {
  "kernelspec": {
   "display_name": "Python 2",
   "language": "python",
   "name": "python2"
  },
  "language_info": {
   "codemirror_mode": {
    "name": "ipython",
    "version": 2
   },
   "file_extension": ".py",
   "mimetype": "text/x-python",
   "name": "python",
   "nbconvert_exporter": "python",
   "pygments_lexer": "ipython2",
   "version": "2.7.10"
  }
 },
 "nbformat": 4,
 "nbformat_minor": 0
}
