{
 "cells": [
  {
   "cell_type": "code",
   "execution_count": 1,
   "metadata": {
    "collapsed": true
   },
   "outputs": [],
   "source": [
    "#Definition to make initial state\n",
    "def make_initial_state(x):\n",
    "    string =\"TA\"\n",
    "    for i in range(1,x):\n",
    "         string += \"TA\"\n",
    "    \n",
    "    string += \"__\"\n",
    "    return string"
   ]
  },
  {
   "cell_type": "code",
   "execution_count": 2,
   "metadata": {
    "collapsed": true
   },
   "outputs": [],
   "source": [
    "#Make a Position String\n",
    "def make_position_string(length):\n",
    "    new_str=\"\"\n",
    "    for i in range(0, length):\n",
    "        if(i < 10):\n",
    "            new_str += str(i)\n",
    "        else:\n",
    "            new_str += str(i-10)\n",
    "    return new_str    \n",
    "        "
   ]
  },
  {
   "cell_type": "code",
   "execution_count": 3,
   "metadata": {
    "collapsed": true
   },
   "outputs": [],
   "source": [
    "#Number of Differences\n",
    "def  num_diffs(state):\n",
    "    count = 0\n",
    "    for j in state:\n",
    "        if(j != '_'):\n",
    "            count +=1\n",
    "    return count\n",
    "    "
   ]
  },
  {
   "cell_type": "code",
   "execution_count": 4,
   "metadata": {
    "collapsed": true
   },
   "outputs": [],
   "source": [
    "#Position of Blanks\n",
    "def position_of_blanks(state):\n",
    "    count = 0\n",
    "    for j in state:\n",
    "        if(j != '_'):\n",
    "            count +=1\n",
    "    return count\n",
    "    "
   ]
  },
  {
   "cell_type": "code",
   "execution_count": 18,
   "metadata": {
    "collapsed": true
   },
   "outputs": [],
   "source": [
    "#Making a Move\n",
    "def make_move(state, position):\n",
    "    #if(position == (len(state) - 2)):\n",
    "            #return state #return the same value if its length of the state \n",
    "    \n",
    "    count = 0  #seat index variable intially zero\n",
    "    new_str=\"\"\n",
    "    move_str = \"\"  \n",
    "    \n",
    "    #lets consider pair seat as (AB)\n",
    "    seat1 = position+1  # pair seat-A\n",
    "    seat2 = position+2  # pair seat-B\n",
    "    \n",
    "    for i in state:\n",
    "        count +=1\n",
    "        if(i != \"_\"):\n",
    "            if(count >= seat1 and count <= seat2):\n",
    "                new_str +=\"_\"\n",
    "                move_str += i\n",
    "            else:\n",
    "                new_str +=i\n",
    "            #end of for loop\n",
    "    \n",
    "    new_str += move_str        \n",
    "    return new_str\n",
    "   "
   ]
  },
  {
   "cell_type": "code",
   "execution_count": 6,
   "metadata": {
    "collapsed": false
   },
   "outputs": [
    {
     "data": {
      "text/plain": [
       "'TATATATA__'"
      ]
     },
     "execution_count": 6,
     "metadata": {},
     "output_type": "execute_result"
    }
   ],
   "source": [
    "#2.2.1 Make Initial State\n",
    "make_initial_state(4)"
   ]
  },
  {
   "cell_type": "code",
   "execution_count": 7,
   "metadata": {
    "collapsed": false
   },
   "outputs": [
    {
     "data": {
      "text/plain": [
       "'012345678901234567'"
      ]
     },
     "execution_count": 7,
     "metadata": {},
     "output_type": "execute_result"
    }
   ],
   "source": [
    "#2.2.2 Make a Position String\n",
    "make_position_string(18)"
   ]
  },
  {
   "cell_type": "code",
   "execution_count": 8,
   "metadata": {
    "collapsed": false
   },
   "outputs": [
    {
     "data": {
      "text/plain": [
       "8"
      ]
     },
     "execution_count": 8,
     "metadata": {},
     "output_type": "execute_result"
    }
   ],
   "source": [
    "#2.2.3 Number of Differences\n",
    "state = make_initial_state(4)\n",
    "num_diffs(state)"
   ]
  },
  {
   "cell_type": "code",
   "execution_count": 9,
   "metadata": {
    "collapsed": false
   },
   "outputs": [
    {
     "data": {
      "text/plain": [
       "8"
      ]
     },
     "execution_count": 9,
     "metadata": {},
     "output_type": "execute_result"
    }
   ],
   "source": [
    "#2.2.4 Position of Blanks\n",
    "state = make_initial_state(4)\n",
    "position_of_blanks(state)"
   ]
  },
  {
   "cell_type": "code",
   "execution_count": 16,
   "metadata": {
    "collapsed": false
   },
   "outputs": [
    {
     "data": {
      "text/plain": [
       "'T__ATATAAT'"
      ]
     },
     "execution_count": 16,
     "metadata": {},
     "output_type": "execute_result"
    }
   ],
   "source": [
    "#2.2.5 Making a Move\n",
    "state = make_initial_state(4)\n",
    "make_move(state, 1)"
   ]
  }
 ],
 "metadata": {
  "kernelspec": {
   "display_name": "Python 2",
   "language": "python",
   "name": "python2"
  },
  "language_info": {
   "codemirror_mode": {
    "name": "ipython",
    "version": 2
   },
   "file_extension": ".py",
   "mimetype": "text/x-python",
   "name": "python",
   "nbconvert_exporter": "python",
   "pygments_lexer": "ipython2",
   "version": "2.7.10"
  }
 },
 "nbformat": 4,
 "nbformat_minor": 0
}
