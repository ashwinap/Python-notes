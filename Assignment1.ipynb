{
 "cells": [
  {
   "cell_type": "code",
   "execution_count": 2,
   "metadata": {
    "collapsed": true
   },
   "outputs": [],
   "source": [
    "#Definition to make initial state\n",
    "def make_initial_state(x):\n",
    "    string =\"TA\"\n",
    "    for i in range(1,x):\n",
    "         string += \"TA\"\n",
    "    \n",
    "    string += \"__\"\n",
    "    return string"
   ]
  },
  {
   "cell_type": "code",
   "execution_count": 3,
   "metadata": {
    "collapsed": true
   },
   "outputs": [],
   "source": [
    "#Make a Position String\n",
    "def make_position_string(length):\n",
    "    new_str=\"\"\n",
    "    for i in range(0, length):\n",
    "        if(i < 10):\n",
    "            new_str += str(i)\n",
    "        else:\n",
    "            new_str += str(i-10)\n",
    "    return new_str    \n",
    "        "
   ]
  },
  {
   "cell_type": "code",
   "execution_count": 4,
   "metadata": {
    "collapsed": true
   },
   "outputs": [],
   "source": [
    "#Number of Differences\n",
    "def  num_diffs(state):\n",
    "    count = 0\n",
    "    for j in state:\n",
    "        if(j != '_'):\n",
    "            count +=1\n",
    "    return count\n",
    "    "
   ]
  },
  {
   "cell_type": "code",
   "execution_count": 5,
   "metadata": {
    "collapsed": true
   },
   "outputs": [],
   "source": [
    "#Position of Blanks\n",
    "def position_of_blanks(state):\n",
    "    count = 0\n",
    "    for j in state:\n",
    "        if(j != '_'):\n",
    "            count +=1\n",
    "    return count\n",
    "    "
   ]
  },
  {
   "cell_type": "code",
   "execution_count": 19,
   "metadata": {
    "collapsed": true
   },
   "outputs": [],
   "source": [
    "#Making a Move\n",
    "def make_move(state, position):\n",
    "    str_len = len(state)  #state string lenght\n",
    "    position_str = \"\"     #Initializing  as string\n",
    "    final_str = \"\"        #Initializing  as string\n",
    "    for i in range(0, len(state)):\n",
    "        if(state[i] == \"_\"):\n",
    "            position_str += str(i)       # Initially finding the free seat \"_ _\" position\n",
    "    \n",
    "    free_seat_A = int(position_str[0])   #Converting the String into Int (Typecasting)\n",
    "    free_seat_B = int(position_str[1])   #Converting the String into Int (Typecasting)\n",
    "    \n",
    "    swap_seat_A = str(state[position])   #copying the member \"string\" to be moved to new location\n",
    "    swap_seat_B = str(state[position+1]) #copying the member \"string\" to be moved to new location\n",
    "    \n",
    "    count = 0        #counter variable to find the current position\n",
    "    ctr = position        \n",
    "    for x in state:\n",
    "        if (count >= position and count <= position+1):\n",
    "            final_str +=\"_\"         #Inserting the free seat in the given position\n",
    "            \n",
    "        elif(x != \"_\"):\n",
    "            final_str += x          #Adding existing seat format                          \n",
    "        elif(x == \"_\"):\n",
    "                final_str += str(state[ctr])  #swaping the old free seat with memeber\n",
    "                ctr+=1\n",
    "        count +=1\n",
    "\n",
    "    \n",
    "    return final_str\n",
    "               \n",
    "    "
   ]
  },
  {
   "cell_type": "code",
   "execution_count": 20,
   "metadata": {
    "collapsed": false
   },
   "outputs": [
    {
     "data": {
      "text/plain": [
       "'TATATATA__'"
      ]
     },
     "execution_count": 20,
     "metadata": {},
     "output_type": "execute_result"
    }
   ],
   "source": [
    "#2.2.1 Make Initial State\n",
    "make_initial_state(4)"
   ]
  },
  {
   "cell_type": "code",
   "execution_count": 21,
   "metadata": {
    "collapsed": false
   },
   "outputs": [
    {
     "data": {
      "text/plain": [
       "'012345678901234567'"
      ]
     },
     "execution_count": 21,
     "metadata": {},
     "output_type": "execute_result"
    }
   ],
   "source": [
    "#2.2.2 Make a Position String\n",
    "make_position_string(18)"
   ]
  },
  {
   "cell_type": "code",
   "execution_count": 22,
   "metadata": {
    "collapsed": false
   },
   "outputs": [
    {
     "data": {
      "text/plain": [
       "8"
      ]
     },
     "execution_count": 22,
     "metadata": {},
     "output_type": "execute_result"
    }
   ],
   "source": [
    "#2.2.3 Number of Differences\n",
    "state = make_initial_state(4)\n",
    "num_diffs(state)"
   ]
  },
  {
   "cell_type": "code",
   "execution_count": 23,
   "metadata": {
    "collapsed": false
   },
   "outputs": [
    {
     "data": {
      "text/plain": [
       "8"
      ]
     },
     "execution_count": 23,
     "metadata": {},
     "output_type": "execute_result"
    }
   ],
   "source": [
    "#2.2.4 Position of Blanks\n",
    "state = make_initial_state(4)\n",
    "position_of_blanks(state)"
   ]
  },
  {
   "cell_type": "code",
   "execution_count": 24,
   "metadata": {
    "collapsed": false
   },
   "outputs": [
    {
     "data": {
      "text/plain": [
       "'T__ATATAAT'"
      ]
     },
     "execution_count": 24,
     "metadata": {},
     "output_type": "execute_result"
    }
   ],
   "source": [
    "#2.2.5 Making a Move\n",
    "state = make_initial_state(4)\n",
    "make_move(state, 1)"
   ]
  },
  {
   "cell_type": "code",
   "execution_count": 25,
   "metadata": {
    "collapsed": false
   },
   "outputs": [
    {
     "data": {
      "text/plain": [
       "'TAT__ATAAT'"
      ]
     },
     "execution_count": 25,
     "metadata": {},
     "output_type": "execute_result"
    }
   ],
   "source": [
    "state = make_move(state, 1)\n",
    "make_move(state, 3)"
   ]
  },
  {
   "cell_type": "code",
   "execution_count": null,
   "metadata": {
    "collapsed": true
   },
   "outputs": [],
   "source": []
  }
 ],
 "metadata": {
  "kernelspec": {
   "display_name": "Python 2",
   "language": "python",
   "name": "python2"
  },
  "language_info": {
   "codemirror_mode": {
    "name": "ipython",
    "version": 2
   },
   "file_extension": ".py",
   "mimetype": "text/x-python",
   "name": "python",
   "nbconvert_exporter": "python",
   "pygments_lexer": "ipython2",
   "version": "2.7.10"
  }
 },
 "nbformat": 4,
 "nbformat_minor": 0
}
